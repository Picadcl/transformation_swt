{
 "cells": [
  {
   "cell_type": "code",
   "execution_count": 1,
   "metadata": {},
   "outputs": [],
   "source": [
    "from sympy import *\n",
    "from sympy.physics.quantum import TensorProduct\n",
    "from sympy.physics.quantum import Commutator\n",
    "from sympy.physics.quantum import Operator\n",
    "from itertools import permutations\n",
    "from itertools import combinations"
   ]
  },
  {
   "cell_type": "code",
   "execution_count": 2,
   "metadata": {},
   "outputs": [],
   "source": [
    "wc_0,wc_1,wq1_0,wq1_1,wq2_0,wq2_1,g12_00,g1c_00,g2c_00,t = symbols('w^c_0,w^c_1,w^1_0,w^1_1,w^2_0,w^2_1,g^(12)_00,g^(1c)_00,g^(2c)_00,t')\n",
    "wc_2,wq1_2,wq2_2,g12_01,g12_10,g12_11,g1c_01,g1c_10,g1c_11,g2c_01,g2c_10,g2c_11 = symbols('w^c_2,w^1_2,w^2_2,g^(12)_01,g^(12)_10,g^(12)_11,g^(1c)_01,g^(1c)_10,g^(1c)_11,g^(2c)_01,g^(2c)_10,g^(2c)_11')\n",
    "d1c_00,d1c_01,d1c_10,d1c_11, d2c_00,d2c_01,d2c_10,d2c_11= symbols('D^(1c)_00,D^(1c)_01,D^(1c)_10,D^(1c)_11,D^(2c)_00,D^(2c)_01,D^(2c)_10,D^(2c)_11')\n",
    "d12_00,d12_01,d12_10,d12_11 = symbols('D^(12)_00,D^(12)_01,D^(12)_10,D^(12)_11')\n",
    "\n",
    "sigmap0 = Matrix([[0,0,0],[1,0,0],[0,0,0]])\n",
    "sigmap1 = Matrix([[0,0,0],[0,0,0],[0,1,0]])\n",
    "sigmam0 = Matrix([[0,1,0],[0,0,0],[0,0,0]])\n",
    "sigmam1 = Matrix([[0,0,0],[0,0,1],[0,0,0]])\n",
    "sigmap02 = Matrix([[0,0,0],[0,0,0],[1,0,0]])\n",
    "sigmam02 = Matrix([[0,0,1],[0,0,0],[0,0,0]])\n",
    "\n",
    "\n",
    "H0 = TensorProduct(diag(wc_0,wc_1,wc_2),eye(3),eye(3)) + TensorProduct(eye(3),diag(wq1_0,wq1_1,wq1_2),eye(3))+ TensorProduct(eye(3),eye(3),diag(wq2_0,wq2_1,wq2_2))\n",
    "H1_00 = g12_00*(TensorProduct(eye(3),sigmap0,sigmam0)+TensorProduct(eye(3),sigmam0,sigmap0))\n",
    "H1_01 = g12_01*(TensorProduct(eye(3),sigmap0,sigmam1)+TensorProduct(eye(3),sigmam0,sigmap1))\n",
    "H1_10 = g12_10*(TensorProduct(eye(3),sigmap1,sigmam0)+TensorProduct(eye(3),sigmam1,sigmap0))\n",
    "H1_11 = g12_11*(TensorProduct(eye(3),sigmap1,sigmam1)+TensorProduct(eye(3),sigmam1,sigmap1))\n",
    "H1 = H1_00 + H1_01 + H1_10 + H1_11\n",
    "# H1 = H1_00 + H1_11\n",
    "\n",
    "H2_00 = g1c_00*(TensorProduct(sigmam0,sigmap0,eye(3))+TensorProduct(sigmap0,sigmam0,eye(3)))+g2c_00*(TensorProduct(sigmam0,eye(3),sigmap0)+TensorProduct(sigmap0,eye(3),sigmam0))\n",
    "H2_01 = g1c_01*(TensorProduct(sigmam0,sigmap1,eye(3))+TensorProduct(sigmap0,sigmam1,eye(3)))+g2c_01*(TensorProduct(sigmam0,eye(3),sigmap1)+TensorProduct(sigmap0,eye(3),sigmam1))\n",
    "H2_10 = g1c_10*(TensorProduct(sigmam1,sigmap0,eye(3))+TensorProduct(sigmap1,sigmam0,eye(3)))+g2c_10*(TensorProduct(sigmam1,eye(3),sigmap0)+TensorProduct(sigmap1,eye(3),sigmam0))\n",
    "H2_11 = g1c_11*(TensorProduct(sigmam1,sigmap1,eye(3))+TensorProduct(sigmap1,sigmam1,eye(3)))+g2c_11*(TensorProduct(sigmam1,eye(3),sigmap1)+TensorProduct(sigmap1,eye(3),sigmam1))\n",
    "H2_qq_01 = g12_01*(TensorProduct(eye(3),sigmap0,sigmam1)+TensorProduct(eye(3),sigmam0,sigmap1))\n",
    "H2_qq_10 = g12_10*(TensorProduct(eye(3),sigmap1,sigmam0)+TensorProduct(eye(3),sigmam1,sigmap0))\n",
    "H2_qq_11 = g12_11*(TensorProduct(eye(3),sigmap1,sigmam1)+TensorProduct(eye(3),sigmam1,sigmap1))\n",
    "H2_qq_00 = g12_00*(TensorProduct(eye(3),sigmap0,sigmam0)+TensorProduct(eye(3),sigmam0,sigmap0))  #\n",
    "H2 = H2_00 + H2_01+ H2_10+ H2_11\n",
    "# H2 = H2_00+H2_01+H2_10+H2_11+ H1_01 + H1_10"
   ]
  },
  {
   "cell_type": "code",
   "execution_count": 3,
   "metadata": {},
   "outputs": [],
   "source": [
    "subc0_eigen = []\n",
    "subc1_eigen = []\n",
    "subc2_eigen = []\n",
    "for i in [[[1],[0],[0]],[[0],[1],[0]],[[0],[0],[1]]]:\n",
    "    for j in [[[1],[0],[0]],[[0],[1],[0]],[[0],[0],[1]]]:\n",
    "        subc0_eigen.append(TensorProduct(Matrix([[1],[0],[0]]),Matrix(i),Matrix(j)))\n",
    "        subc1_eigen.append(TensorProduct(Matrix([[0],[1],[0]]),Matrix(i),Matrix(j)))\n",
    "        subc2_eigen.append(TensorProduct(Matrix([[0],[0],[1]]),Matrix(i),Matrix(j)))\n",
    "\n",
    "P0 = diag([0]*27,unpack=True)\n",
    "P1 = diag([0]*27,unpack=True)\n",
    "P2 = diag([0]*27,unpack=True)\n",
    "for k in [i*i.transpose() for i in subc0_eigen]:\n",
    "    P0 += k\n",
    "for k in [i*i.transpose() for i in subc1_eigen]:\n",
    "    P1 += k\n",
    "for k in [i*i.transpose() for i in subc2_eigen]:\n",
    "    P2 += k\n"
   ]
  },
  {
   "cell_type": "code",
   "execution_count": 4,
   "metadata": {},
   "outputs": [],
   "source": [
    "S1_try = diag([0]*27,unpack=True)\n",
    "for subpairs in permutations([subc0_eigen,subc1_eigen,subc2_eigen],2):\n",
    "    for i in subpairs[0]:\n",
    "        for j in subpairs[1]:\n",
    "            S1_try += -(i.transpose()*H2*j)[0]/(i.transpose()*H0*i-j.transpose()*H0*j)[0]*i*j.transpose()"
   ]
  },
  {
   "cell_type": "code",
   "execution_count": 5,
   "metadata": {},
   "outputs": [],
   "source": [
    "S2_try = diag([0]*27,unpack=True)\n",
    "for subpairs in permutations([subc0_eigen,subc1_eigen,subc2_eigen],2):\n",
    "    for i in subpairs[0]:\n",
    "        for j in subpairs[1]:\n",
    "            S2_try += -((i.transpose()*(H1*S1_try-S1_try*H1)*j)[0]+0.5*(i.transpose()*(H2*S1_try-S1_try*H2)*j)[0])/(i.transpose()*H0*i-j.transpose()*H0*j)[0]*i*j.transpose()"
   ]
  },
  {
   "cell_type": "code",
   "execution_count": 6,
   "metadata": {},
   "outputs": [],
   "source": [
    "res_Scut1 = H0 + H1 + (H2*S1_try-S1_try*H2)/2\n",
    "res_Scut2 = H0 + H1 + (H2*S1_try-S1_try*H2)/2 + (H2*S2_try-S2_try*H2)/2\n"
   ]
  },
  {
   "cell_type": "markdown",
   "metadata": {},
   "source": [
    "### 等效耦合强度 @ Coupler = $|0\\rangle$"
   ]
  },
  {
   "cell_type": "code",
   "execution_count": 7,
   "metadata": {},
   "outputs": [
    {
     "data": {
      "text/latex": [
       "$\\displaystyle g^{(12)}_{00} - \\frac{g^{(1c)}_{00} g^{(2c)}_{00}}{2 \\left(w^{2}_{0} - w^{2}_{1} - w^{c}_{0} + w^{c}_{1}\\right)} + \\frac{g^{(1c)}_{00} g^{(2c)}_{00}}{2 \\left(- w^{1}_{0} + w^{1}_{1} + w^{c}_{0} - w^{c}_{1}\\right)}$"
      ],
      "text/plain": [
       "g^(12)_00 - g^(1c)_00*g^(2c)_00/(2*(w^2_0 - w^2_1 - w^c_0 + w^c_1)) + g^(1c)_00*g^(2c)_00/(2*(-w^1_0 + w^1_1 + w^c_0 - w^c_1))"
      ]
     },
     "execution_count": 7,
     "metadata": {},
     "output_type": "execute_result"
    }
   ],
   "source": [
    "res_Scut1[3,1]"
   ]
  },
  {
   "cell_type": "code",
   "execution_count": 8,
   "metadata": {},
   "outputs": [
    {
     "data": {
      "text/latex": [
       "$\\displaystyle - \\frac{g^{(12)}_{00} \\left(g^{(1c)}_{00}\\right)^{2}}{2 \\left(w^{1}_{0} - w^{1}_{1} - w^{c}_{0} + w^{c}_{1}\\right) \\left(w^{2}_{0} - w^{2}_{1} - w^{c}_{0} + w^{c}_{1}\\right)} - \\frac{g^{(12)}_{00} \\left(g^{(2c)}_{00}\\right)^{2}}{2 \\left(- w^{1}_{0} + w^{1}_{1} + w^{c}_{0} - w^{c}_{1}\\right) \\left(- w^{2}_{0} + w^{2}_{1} + w^{c}_{0} - w^{c}_{1}\\right)} + g^{(12)}_{00} - \\frac{g^{(1c)}_{00} g^{(2c)}_{00}}{2 \\left(w^{2}_{0} - w^{2}_{1} - w^{c}_{0} + w^{c}_{1}\\right)} + \\frac{g^{(1c)}_{00} g^{(2c)}_{00}}{2 \\left(- w^{1}_{0} + w^{1}_{1} + w^{c}_{0} - w^{c}_{1}\\right)}$"
      ],
      "text/plain": [
       "-g^(12)_00*g^(1c)_00**2/(2*(w^1_0 - w^1_1 - w^c_0 + w^c_1)*(w^2_0 - w^2_1 - w^c_0 + w^c_1)) - g^(12)_00*g^(2c)_00**2/(2*(-w^1_0 + w^1_1 + w^c_0 - w^c_1)*(-w^2_0 + w^2_1 + w^c_0 - w^c_1)) + g^(12)_00 - g^(1c)_00*g^(2c)_00/(2*(w^2_0 - w^2_1 - w^c_0 + w^c_1)) + g^(1c)_00*g^(2c)_00/(2*(-w^1_0 + w^1_1 + w^c_0 - w^c_1))"
      ]
     },
     "execution_count": 8,
     "metadata": {},
     "output_type": "execute_result"
    }
   ],
   "source": [
    "res_Scut2[3,1]"
   ]
  },
  {
   "cell_type": "markdown",
   "metadata": {},
   "source": [
    "### 等效耦合强度 @ Coupler = $|1\\rangle$"
   ]
  },
  {
   "cell_type": "code",
   "execution_count": 10,
   "metadata": {},
   "outputs": [
    {
     "data": {
      "text/latex": [
       "$\\displaystyle g^{(12)}_{00} - \\frac{g^{(1c)}_{00} g^{(2c)}_{00}}{2 \\left(- w^{2}_{0} + w^{2}_{1} + w^{c}_{0} - w^{c}_{1}\\right)} + \\frac{g^{(1c)}_{00} g^{(2c)}_{00}}{2 \\left(w^{1}_{0} - w^{1}_{1} - w^{c}_{0} + w^{c}_{1}\\right)} + \\frac{g^{(1c)}_{10} g^{(2c)}_{10}}{2 \\left(- w^{2}_{0} + w^{2}_{1} + w^{c}_{1} - w^{c}_{2}\\right)} - \\frac{g^{(1c)}_{10} g^{(2c)}_{10}}{2 \\left(w^{1}_{0} - w^{1}_{1} - w^{c}_{1} + w^{c}_{2}\\right)}$"
      ],
      "text/plain": [
       "g^(12)_00 - g^(1c)_00*g^(2c)_00/(2*(-w^2_0 + w^2_1 + w^c_0 - w^c_1)) + g^(1c)_00*g^(2c)_00/(2*(w^1_0 - w^1_1 - w^c_0 + w^c_1)) + g^(1c)_10*g^(2c)_10/(2*(-w^2_0 + w^2_1 + w^c_1 - w^c_2)) - g^(1c)_10*g^(2c)_10/(2*(w^1_0 - w^1_1 - w^c_1 + w^c_2))"
      ]
     },
     "execution_count": 10,
     "metadata": {},
     "output_type": "execute_result"
    }
   ],
   "source": [
    "res_Scut1[10,12]"
   ]
  },
  {
   "cell_type": "code",
   "execution_count": null,
   "metadata": {},
   "outputs": [],
   "source": [
    "simplify(res_Scut2[10,12])"
   ]
  },
  {
   "cell_type": "markdown",
   "metadata": {},
   "source": [
    "### ZZ强度 @ Coupler = $|0\\rangle$"
   ]
  },
  {
   "cell_type": "code",
   "execution_count": 11,
   "metadata": {},
   "outputs": [
    {
     "data": {
      "text/latex": [
       "$\\displaystyle 0$"
      ],
      "text/plain": [
       "0"
      ]
     },
     "execution_count": 11,
     "metadata": {},
     "output_type": "execute_result"
    }
   ],
   "source": [
    "(res_Scut1[4,4] - res_Scut1[3,3]) - (res_Scut1[1,1] - res_Scut1[0,0]) "
   ]
  },
  {
   "cell_type": "code",
   "execution_count": 12,
   "metadata": {},
   "outputs": [
    {
     "data": {
      "text/latex": [
       "$\\displaystyle \\frac{2 g^{(12)}_{00} g^{(1c)}_{00} g^{(2c)}_{00} \\left(w^{1}_{1} - w^{1}_{2} - w^{c}_{0} + w^{c}_{1}\\right) \\left(w^{2}_{1} - w^{2}_{2} - w^{c}_{0} + w^{c}_{1}\\right) + g^{(1c)}_{00} \\left(g^{(12)}_{00} g^{(2c)}_{00} \\left(w^{2}_{1} - w^{2}_{2} - w^{c}_{0} + w^{c}_{1}\\right) - g^{(12)}_{01} g^{(2c)}_{01} \\left(w^{2}_{0} - w^{2}_{1} - w^{c}_{0} + w^{c}_{1}\\right)\\right) \\left(w^{1}_{1} - w^{1}_{2} - w^{c}_{0} + w^{c}_{1}\\right) + g^{(2c)}_{00} \\left(g^{(12)}_{00} g^{(1c)}_{00} \\left(w^{1}_{1} - w^{1}_{2} - w^{c}_{0} + w^{c}_{1}\\right) - g^{(12)}_{10} g^{(1c)}_{01} \\left(w^{1}_{0} - w^{1}_{1} - w^{c}_{0} + w^{c}_{1}\\right)\\right) \\left(w^{2}_{1} - w^{2}_{2} - w^{c}_{0} + w^{c}_{1}\\right)}{\\left(w^{1}_{0} - w^{1}_{1} - w^{c}_{0} + w^{c}_{1}\\right) \\left(w^{1}_{1} - w^{1}_{2} - w^{c}_{0} + w^{c}_{1}\\right) \\left(w^{2}_{0} - w^{2}_{1} - w^{c}_{0} + w^{c}_{1}\\right) \\left(w^{2}_{1} - w^{2}_{2} - w^{c}_{0} + w^{c}_{1}\\right)}$"
      ],
      "text/plain": [
       "(2*g^(12)_00*g^(1c)_00*g^(2c)_00*(w^1_1 - w^1_2 - w^c_0 + w^c_1)*(w^2_1 - w^2_2 - w^c_0 + w^c_1) + g^(1c)_00*(g^(12)_00*g^(2c)_00*(w^2_1 - w^2_2 - w^c_0 + w^c_1) - g^(12)_01*g^(2c)_01*(w^2_0 - w^2_1 - w^c_0 + w^c_1))*(w^1_1 - w^1_2 - w^c_0 + w^c_1) + g^(2c)_00*(g^(12)_00*g^(1c)_00*(w^1_1 - w^1_2 - w^c_0 + w^c_1) - g^(12)_10*g^(1c)_01*(w^1_0 - w^1_1 - w^c_0 + w^c_1))*(w^2_1 - w^2_2 - w^c_0 + w^c_1))/((w^1_0 - w^1_1 - w^c_0 + w^c_1)*(w^1_1 - w^1_2 - w^c_0 + w^c_1)*(w^2_0 - w^2_1 - w^c_0 + w^c_1)*(w^2_1 - w^2_2 - w^c_0 + w^c_1))"
      ]
     },
     "execution_count": 12,
     "metadata": {},
     "output_type": "execute_result"
    }
   ],
   "source": [
    "simplify((res_Scut2[4,4] - res_Scut2[3,3]) - (res_Scut2[1,1] - res_Scut2[0,0]))\n"
   ]
  }
 ],
 "metadata": {
  "kernelspec": {
   "display_name": "base",
   "language": "python",
   "name": "python3"
  },
  "language_info": {
   "codemirror_mode": {
    "name": "ipython",
    "version": 3
   },
   "file_extension": ".py",
   "mimetype": "text/x-python",
   "name": "python",
   "nbconvert_exporter": "python",
   "pygments_lexer": "ipython3",
   "version": "3.8.8"
  }
 },
 "nbformat": 4,
 "nbformat_minor": 2
}
