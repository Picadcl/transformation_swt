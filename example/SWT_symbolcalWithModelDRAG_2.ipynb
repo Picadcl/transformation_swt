{
 "cells": [
  {
   "cell_type": "code",
   "execution_count": 1,
   "metadata": {},
   "outputs": [],
   "source": [
    "from sympy import *\n",
    "from sympy.physics.quantum import TensorProduct\n",
    "from sympy.physics.quantum import Commutator\n",
    "from sympy.physics.quantum import Operator\n",
    "from itertools import permutations\n",
    "from itertools import combinations"
   ]
  },
  {
   "cell_type": "code",
   "execution_count": 2,
   "metadata": {},
   "outputs": [],
   "source": [
    "w_0,w_1,w_2,g,t = symbols('w_0,w_1,w_2,g,t')\n",
    "ft = Function('f')(t)\n",
    "kt = Function('k')(t)\n",
    "w_d = symbols('w_d')\n",
    " \n",
    "sigmap01 = Matrix([[0,0,0],[1,0,0],[0,0,0]])\n",
    "sigmap12 = Matrix([[0,0,0],[0,0,0],[0,1,0]])\n",
    "sigmam01 = Matrix([[0,1,0],[0,0,0],[0,0,0]])\n",
    "sigmam12 = Matrix([[0,0,0],[0,0,1],[0,0,0]])\n",
    "sigmap02 = Matrix([[0,0,0],[0,0,0],[1,0,0]])\n",
    "sigmam02 = Matrix([[0,0,1],[0,0,0],[0,0,0]])\n",
    "\n",
    "\n",
    "H0 = diag(w_0,w_1,w_2)\n",
    "H1 = 1*ft*(sigmap01 + sigmam01) \n",
    "\n",
    "H2 = g*ft*(sigmap12+sigmam12) #1*kt*(sigmap01 + sigmam01) + g*kt*(sigmap12+sigmam12)\n",
    "\n",
    "# H1 = diag(0,0,0)\n",
    "# H2 = 1*ft*(sigmap01 + sigmam01) + g*ft*(sigmap12+sigmam12)+ 1*kt*(sigmap01 + sigmam01) + g*kt*(sigmap12+sigmam12)"
   ]
  },
  {
   "cell_type": "code",
   "execution_count": 3,
   "metadata": {},
   "outputs": [],
   "source": [
    "subq_eigen = [Matrix([[1],[0],[0]]),Matrix([[0],[1],[0]])]\n",
    "subrest_eigen = [Matrix([[0],[0],[1]])]\n",
    "\n",
    "# subq_eigen = [Matrix([[1],[0],[0]]),Matrix([[0],[0],[1]])]\n",
    "# subrest_eigen = [Matrix([[0],[1],[0]])]\n",
    "\n",
    "\n",
    "Pq = diag([0]*3,unpack=True)\n",
    "Prest = diag([0]*3,unpack=True)\n",
    "for k in [i*i.transpose() for i in subq_eigen]:\n",
    "    Pq += k\n",
    "for k in [i*i.transpose() for i in subrest_eigen]:\n",
    "    Prest += k\n"
   ]
  },
  {
   "cell_type": "code",
   "execution_count": 4,
   "metadata": {},
   "outputs": [],
   "source": [
    "S1_try = diag([0]*3,unpack=True)\n",
    "for subpairs in permutations([subq_eigen,subrest_eigen],2):\n",
    "    for i in subpairs[0]:\n",
    "        for j in subpairs[1]:\n",
    "            S1_try += -(i.transpose()*H2*j)[0]/(i.transpose()*H0*i-j.transpose()*H0*j)[0]*i*j.transpose()"
   ]
  },
  {
   "cell_type": "code",
   "execution_count": 5,
   "metadata": {},
   "outputs": [],
   "source": [
    "# S2_try = diag([0]*3,unpack=True)\n",
    "# for subpairs in permutations([subq_eigen,subrest_eigen],2):\n",
    "#     for i in subpairs[0]:\n",
    "#         for j in subpairs[1]:\n",
    "#             S2_try += -((i.transpose()*(H1*S1_try-S1_try*H1)*j)[0]+0.5*(i.transpose()*(H2*S1_try-S1_try*H2)*j)[0])/(i.transpose()*H0*i-j.transpose()*H0*j)[0]*i*j.transpose()\n",
    "S2_try = diag([0]*3,unpack=True)\n",
    "for subpairs in permutations([subq_eigen,subrest_eigen],2):\n",
    "    for i in subpairs[0]:\n",
    "        for j in subpairs[1]:\n",
    "            S2_try += -((i.transpose()*(H1*S1_try-S1_try*H1)*j)[0]+0.5*(i.transpose()*(H2*S1_try-S1_try*H2)*j)[0]-1j*(i.transpose()*diff(S1_try,t)*j)[0])/(i.transpose()*H0*i-j.transpose()*H0*j)[0]*i*j.transpose()"
   ]
  },
  {
   "cell_type": "code",
   "execution_count": 6,
   "metadata": {},
   "outputs": [],
   "source": [
    "res_Scut1 = H0 + H1 + (H2*S1_try-S1_try*H2)/2\n",
    "res_Scut2 = H0 + H1 + (H2*S1_try-S1_try*H2)/2 + (H2*S2_try-S2_try*H2)/2\n"
   ]
  },
  {
   "cell_type": "code",
   "execution_count": 7,
   "metadata": {},
   "outputs": [
    {
     "data": {
      "text/latex": [
       "$\\displaystyle \\left[\\begin{matrix}w_{0} & f{\\left(t \\right)} & 0\\\\f{\\left(t \\right)} & \\frac{g^{2} f^{2}{\\left(t \\right)}}{2 \\left(w_{1} - w_{2}\\right)} - \\frac{g^{2} f^{2}{\\left(t \\right)}}{2 \\left(- w_{1} + w_{2}\\right)} + w_{1} & 0\\\\0 & 0 & - \\frac{g^{2} f^{2}{\\left(t \\right)}}{2 \\left(w_{1} - w_{2}\\right)} + \\frac{g^{2} f^{2}{\\left(t \\right)}}{2 \\left(- w_{1} + w_{2}\\right)} + w_{2}\\end{matrix}\\right]$"
      ],
      "text/plain": [
       "Matrix([\n",
       "[ w_0,                                                               f(t),                                                                   0],\n",
       "[f(t), g**2*f(t)**2/(2*(w_1 - w_2)) - g**2*f(t)**2/(2*(-w_1 + w_2)) + w_1,                                                                   0],\n",
       "[   0,                                                                  0, -g**2*f(t)**2/(2*(w_1 - w_2)) + g**2*f(t)**2/(2*(-w_1 + w_2)) + w_2]])"
      ]
     },
     "execution_count": 7,
     "metadata": {},
     "output_type": "execute_result"
    }
   ],
   "source": [
    "# (-1j*res_Scut1).exp()\n",
    "(res_Scut1)\n",
    "# (res_Scut1)-1j*diff(S1_try,t)\n"
   ]
  },
  {
   "cell_type": "markdown",
   "metadata": {},
   "source": [
    "### 进入旋转参考系"
   ]
  },
  {
   "cell_type": "code",
   "execution_count": 8,
   "metadata": {},
   "outputs": [
    {
     "data": {
      "text/latex": [
       "$\\displaystyle \\left[\\begin{matrix}1.0 w_{0} & 1.0 f{\\left(t \\right)} e^{- i t w_{d}} & 0\\\\1.0 f{\\left(t \\right)} e^{i t w_{d}} & 1.0 w_{1} - 1.0 w_{d} + 1.0 k{\\left(t \\right)} & 1.0 g f{\\left(t \\right)} e^{- 1.0 i t w_{d}}\\\\0 & 1.0 g f{\\left(t \\right)} e^{1.0 i t w_{d}} & 1.0 w_{2} - 2.0 w_{d} + 2.0 k{\\left(t \\right)}\\end{matrix}\\right]$"
      ],
      "text/plain": [
       "Matrix([\n",
       "[              1.0*w_0,       1.0*f(t)*exp(-I*t*w_d),                            0],\n",
       "[1.0*f(t)*exp(I*t*w_d), 1.0*w_1 - 1.0*w_d + 1.0*k(t), 1.0*g*f(t)*exp(-1.0*I*t*w_d)],\n",
       "[                    0,  1.0*g*f(t)*exp(1.0*I*t*w_d), 1.0*w_2 - 2.0*w_d + 2.0*k(t)]])"
      ]
     },
     "execution_count": 8,
     "metadata": {},
     "output_type": "execute_result"
    }
   ],
   "source": [
    "# H = H0 + H1 +  H2 + 1*kt*(sigmap01 + sigmam01) + g*kt*(sigmap12+sigmam12)\n",
    "H = H0 + H1 +  H2 + 1*kt*diag(0,1,2)\n",
    "Hz = (w_d)*diag(0,1,2)\n",
    "Hr = (1j*t*Hz).exp()*(H)*(-1j*t*Hz).exp() + 1j*diff((1j*t*Hz).exp(),t)*(-1j*t*Hz).exp()\n",
    "# Hr1 = (1j*t*Hz).exp()*(H)*(-1j*t*Hz).exp()- Hz\n",
    "\n",
    "Hr \n"
   ]
  },
  {
   "cell_type": "markdown",
   "metadata": {},
   "source": [
    "### 进入去除x旋转的旋转参考系"
   ]
  },
  {
   "cell_type": "markdown",
   "metadata": {},
   "source": [
    "旋转波近似下重写哈密顿量，并且重新约定符号：\n",
    "\\begin{equation}\n",
    "f(t) := f(t)\\cos(\\omega_d t)\n",
    "\\end{equation}\n",
    "\n",
    "\\begin{equation}\n",
    "H = \\left(\n",
    "    \\begin{matrix}\n",
    "    \\omega_0   &   \\frac{1}{2}f(t)    & 0 \\\\ \n",
    "    \\frac{1}{2}f(t)  & \\omega_1-\\omega_d+k(t)  & \\frac{g}{2}f(t)  \\\\\n",
    "    0    &  \\frac{g}{2}f(t) &  \\omega_2-2\\omega_d+2k(t)  \\\\\n",
    "    \\end{matrix}\n",
    "    \\right)\n",
    "\\end{equation}\n",
    "\n",
    "即此时的$f(t),k(t)$为波形包络"
   ]
  },
  {
   "cell_type": "code",
   "execution_count": 9,
   "metadata": {},
   "outputs": [
    {
     "data": {
      "text/latex": [
       "$\\displaystyle \\left[\\begin{matrix}1.0 w_{0} & \\frac{f{\\left(t \\right)}}{2} & 0\\\\\\frac{f{\\left(t \\right)}}{2} & 1.0 w_{1} - 1.0 w_{d} + 1.0 k{\\left(t \\right)} & \\frac{g f{\\left(t \\right)}}{2}\\\\0 & \\frac{g f{\\left(t \\right)}}{2} & 1.0 w_{2} - 2.0 w_{d} + 2.0 k{\\left(t \\right)}\\end{matrix}\\right]$"
      ],
      "text/plain": [
       "Matrix([\n",
       "[1.0*w_0,                       f(t)/2,                            0],\n",
       "[ f(t)/2, 1.0*w_1 - 1.0*w_d + 1.0*k(t),                     g*f(t)/2],\n",
       "[      0,                     g*f(t)/2, 1.0*w_2 - 2.0*w_d + 2.0*k(t)]])"
      ]
     },
     "execution_count": 9,
     "metadata": {},
     "output_type": "execute_result"
    }
   ],
   "source": [
    "# Rewrite H\n",
    "Hr_rewrite = Hr.copy()\n",
    "Hr_rewrite[0,1] = (ft)/2\n",
    "Hr_rewrite[1,0] = (ft)/2\n",
    "Hr_rewrite[1,2] = g*(ft)/2\n",
    "Hr_rewrite[2,1] = g*(ft)/2\n",
    "Hr_rewrite\n"
   ]
  },
  {
   "cell_type": "code",
   "execution_count": 10,
   "metadata": {},
   "outputs": [],
   "source": [
    "# H_2 是需要消除掉的项，由于H2的选择，对角化只能是0,2空间直和1空间，而非直观上的01空间直和2空间\n",
    "\n",
    "H0_r = diag(w_0,w_1-w_d+kt,w_2-2*w_d+2*kt)\n",
    "H1_r = diag(0,0,0)\n",
    "H2_r = 1*ft/2*(sigmap01 + sigmam01) + g*ft/2*(sigmap12 + sigmam12)\n"
   ]
  },
  {
   "cell_type": "code",
   "execution_count": 11,
   "metadata": {},
   "outputs": [
    {
     "data": {
      "text/latex": [
       "$\\displaystyle \\left[\\begin{matrix}0 & \\frac{f{\\left(t \\right)}}{2} & 0\\\\\\frac{f{\\left(t \\right)}}{2} & 0 & \\frac{g f{\\left(t \\right)}}{2}\\\\0 & \\frac{g f{\\left(t \\right)}}{2} & 0\\end{matrix}\\right]$"
      ],
      "text/plain": [
       "Matrix([\n",
       "[     0,   f(t)/2,        0],\n",
       "[f(t)/2,        0, g*f(t)/2],\n",
       "[     0, g*f(t)/2,        0]])"
      ]
     },
     "execution_count": 11,
     "metadata": {},
     "output_type": "execute_result"
    }
   ],
   "source": [
    "H2_r "
   ]
  },
  {
   "cell_type": "code",
   "execution_count": 12,
   "metadata": {},
   "outputs": [],
   "source": [
    "# subq_eigen = [Matrix([[1],[0],[0]]),Matrix([[0],[1],[0]])]\n",
    "# subrest_eigen = [Matrix([[0],[0],[1]])]\n",
    "\n",
    "subq_eigen = [Matrix([[1],[0],[0]]),Matrix([[0],[0],[1]])]\n",
    "subrest_eigen = [Matrix([[0],[1],[0]])]\n",
    "\n",
    "\n",
    "Pq = diag([0]*3,unpack=True)\n",
    "Prest = diag([0]*3,unpack=True)\n",
    "for k in [i*i.transpose() for i in subq_eigen]:\n",
    "    Pq += k\n",
    "for k in [i*i.transpose() for i in subrest_eigen]:\n",
    "    Prest += k\n",
    "\n",
    "S1_try = diag([0]*3,unpack=True)\n",
    "for subpairs in permutations([subq_eigen,subrest_eigen],2):\n",
    "    for i in subpairs[0]:\n",
    "        for j in subpairs[1]:\n",
    "            S1_try += -(i.transpose()*H2_r*j)[0]/(i.transpose()*H0_r*i-j.transpose()*H0_r*j)[0]*i*j.transpose()\n",
    "\n",
    "S2_try = diag([0]*3,unpack=True)\n",
    "for subpairs in permutations([subq_eigen,subrest_eigen],2):\n",
    "    for i in subpairs[0]:\n",
    "        for j in subpairs[1]:\n",
    "            S2_try += -((i.transpose()*(H1_r*S1_try-S1_try*H1_r)*j)[0]+0.5*(i.transpose()*(H2_r*S1_try-S1_try*H2_r)*j)[0]-1j*(i.transpose()*diff(S1_try,t)*j)[0])/(i.transpose()*H0_r*i-j.transpose()*H0_r*j)[0]*i*j.transpose()"
   ]
  },
  {
   "cell_type": "code",
   "execution_count": 13,
   "metadata": {},
   "outputs": [
    {
     "data": {
      "text/latex": [
       "$\\displaystyle \\left[\\begin{matrix}0 & - \\frac{f{\\left(t \\right)}}{2 \\left(w_{0} - w_{1} + w_{d} - k{\\left(t \\right)}\\right)} & 0\\\\- \\frac{f{\\left(t \\right)}}{2 \\left(- w_{0} + w_{1} - w_{d} + k{\\left(t \\right)}\\right)} & 0 & - \\frac{g f{\\left(t \\right)}}{2 \\left(w_{1} - w_{2} + w_{d} - k{\\left(t \\right)}\\right)}\\\\0 & - \\frac{g f{\\left(t \\right)}}{2 \\left(- w_{1} + w_{2} - w_{d} + k{\\left(t \\right)}\\right)} & 0\\end{matrix}\\right]$"
      ],
      "text/plain": [
       "Matrix([\n",
       "[                                  0,    -f(t)/(2*(w_0 - w_1 + w_d - k(t))),                                    0],\n",
       "[-f(t)/(2*(-w_0 + w_1 - w_d + k(t))),                                     0, -g*f(t)/(2*(w_1 - w_2 + w_d - k(t)))],\n",
       "[                                  0, -g*f(t)/(2*(-w_1 + w_2 - w_d + k(t))),                                    0]])"
      ]
     },
     "execution_count": 13,
     "metadata": {},
     "output_type": "execute_result"
    }
   ],
   "source": [
    "S1_try"
   ]
  },
  {
   "cell_type": "code",
   "execution_count": 14,
   "metadata": {},
   "outputs": [],
   "source": [
    "res_rScut1 = H0_r + H1_r + (H2_r*S1_try-S1_try*H2_r)/2 - 1j*diff(S1_try,t)"
   ]
  },
  {
   "cell_type": "code",
   "execution_count": 15,
   "metadata": {},
   "outputs": [
    {
     "data": {
      "text/latex": [
       "$\\displaystyle \\left[\\begin{matrix}w_{0} + \\frac{f^{2}{\\left(t \\right)}}{8 \\left(w_{0} - w_{1} + w_{d} - k{\\left(t \\right)}\\right)} - \\frac{f^{2}{\\left(t \\right)}}{8 \\left(- w_{0} + w_{1} - w_{d} + k{\\left(t \\right)}\\right)} & - 1.0 i \\left(- \\frac{\\frac{d}{d t} f{\\left(t \\right)}}{2 \\left(w_{0} - w_{1} + w_{d} - k{\\left(t \\right)}\\right)} - \\frac{f{\\left(t \\right)} \\frac{d}{d t} k{\\left(t \\right)}}{2 \\left(w_{0} - w_{1} + w_{d} - k{\\left(t \\right)}\\right)^{2}}\\right) & - \\frac{g f^{2}{\\left(t \\right)}}{8 \\left(w_{1} - w_{2} + w_{d} - k{\\left(t \\right)}\\right)} + \\frac{g f^{2}{\\left(t \\right)}}{8 \\left(w_{0} - w_{1} + w_{d} - k{\\left(t \\right)}\\right)}\\\\- 1.0 i \\left(- \\frac{\\frac{d}{d t} f{\\left(t \\right)}}{2 \\left(- w_{0} + w_{1} - w_{d} + k{\\left(t \\right)}\\right)} + \\frac{f{\\left(t \\right)} \\frac{d}{d t} k{\\left(t \\right)}}{2 \\left(- w_{0} + w_{1} - w_{d} + k{\\left(t \\right)}\\right)^{2}}\\right) & \\frac{g^{2} f^{2}{\\left(t \\right)}}{8 \\left(w_{1} - w_{2} + w_{d} - k{\\left(t \\right)}\\right)} - \\frac{g^{2} f^{2}{\\left(t \\right)}}{8 \\left(- w_{1} + w_{2} - w_{d} + k{\\left(t \\right)}\\right)} + w_{1} - w_{d} + k{\\left(t \\right)} - \\frac{f^{2}{\\left(t \\right)}}{8 \\left(w_{0} - w_{1} + w_{d} - k{\\left(t \\right)}\\right)} + \\frac{f^{2}{\\left(t \\right)}}{8 \\left(- w_{0} + w_{1} - w_{d} + k{\\left(t \\right)}\\right)} & - 1.0 i \\left(- \\frac{g \\frac{d}{d t} f{\\left(t \\right)}}{2 \\left(w_{1} - w_{2} + w_{d} - k{\\left(t \\right)}\\right)} - \\frac{g f{\\left(t \\right)} \\frac{d}{d t} k{\\left(t \\right)}}{2 \\left(w_{1} - w_{2} + w_{d} - k{\\left(t \\right)}\\right)^{2}}\\right)\\\\\\frac{g f^{2}{\\left(t \\right)}}{8 \\left(- w_{1} + w_{2} - w_{d} + k{\\left(t \\right)}\\right)} - \\frac{g f^{2}{\\left(t \\right)}}{8 \\left(- w_{0} + w_{1} - w_{d} + k{\\left(t \\right)}\\right)} & - 1.0 i \\left(- \\frac{g \\frac{d}{d t} f{\\left(t \\right)}}{2 \\left(- w_{1} + w_{2} - w_{d} + k{\\left(t \\right)}\\right)} + \\frac{g f{\\left(t \\right)} \\frac{d}{d t} k{\\left(t \\right)}}{2 \\left(- w_{1} + w_{2} - w_{d} + k{\\left(t \\right)}\\right)^{2}}\\right) & - \\frac{g^{2} f^{2}{\\left(t \\right)}}{8 \\left(w_{1} - w_{2} + w_{d} - k{\\left(t \\right)}\\right)} + \\frac{g^{2} f^{2}{\\left(t \\right)}}{8 \\left(- w_{1} + w_{2} - w_{d} + k{\\left(t \\right)}\\right)} + w_{2} - 2 w_{d} + 2 k{\\left(t \\right)}\\end{matrix}\\right]$"
      ],
      "text/plain": [
       "Matrix([\n",
       "[                                     w_0 + f(t)**2/(8*(w_0 - w_1 + w_d - k(t))) - f(t)**2/(8*(-w_0 + w_1 - w_d + k(t))),                                                                    -1.0*I*(-Derivative(f(t), t)/(2*(w_0 - w_1 + w_d - k(t))) - f(t)*Derivative(k(t), t)/(2*(w_0 - w_1 + w_d - k(t))**2)),                                          -g*f(t)**2/(8*(w_1 - w_2 + w_d - k(t))) + g*f(t)**2/(8*(w_0 - w_1 + w_d - k(t)))],\n",
       "[-1.0*I*(-Derivative(f(t), t)/(2*(-w_0 + w_1 - w_d + k(t))) + f(t)*Derivative(k(t), t)/(2*(-w_0 + w_1 - w_d + k(t))**2)), g**2*f(t)**2/(8*(w_1 - w_2 + w_d - k(t))) - g**2*f(t)**2/(8*(-w_1 + w_2 - w_d + k(t))) + w_1 - w_d + k(t) - f(t)**2/(8*(w_0 - w_1 + w_d - k(t))) + f(t)**2/(8*(-w_0 + w_1 - w_d + k(t))), -1.0*I*(-g*Derivative(f(t), t)/(2*(w_1 - w_2 + w_d - k(t))) - g*f(t)*Derivative(k(t), t)/(2*(w_1 - w_2 + w_d - k(t))**2))],\n",
       "[                                      g*f(t)**2/(8*(-w_1 + w_2 - w_d + k(t))) - g*f(t)**2/(8*(-w_0 + w_1 - w_d + k(t))),                                                              -1.0*I*(-g*Derivative(f(t), t)/(2*(-w_1 + w_2 - w_d + k(t))) + g*f(t)*Derivative(k(t), t)/(2*(-w_1 + w_2 - w_d + k(t))**2)),            -g**2*f(t)**2/(8*(w_1 - w_2 + w_d - k(t))) + g**2*f(t)**2/(8*(-w_1 + w_2 - w_d + k(t))) + w_2 - 2*w_d + 2*k(t)]])"
      ]
     },
     "execution_count": 15,
     "metadata": {},
     "output_type": "execute_result"
    }
   ],
   "source": [
    "res_rScut1 \n",
    "# k(t)没有虚部，所以在x轴方向补偿是无法抑制泄露态的\n",
    "# k(t)只能写成k(t) * sin"
   ]
  },
  {
   "cell_type": "code",
   "execution_count": 16,
   "metadata": {},
   "outputs": [
    {
     "data": {
      "text/latex": [
       "$\\displaystyle - 1.0 i \\left(- \\frac{g \\frac{d}{d t} f{\\left(t \\right)}}{2 \\left(- w_{1} + w_{2} - w_{d} + k{\\left(t \\right)}\\right)} + \\frac{g f{\\left(t \\right)} \\frac{d}{d t} k{\\left(t \\right)}}{2 \\left(- w_{1} + w_{2} - w_{d} + k{\\left(t \\right)}\\right)^{2}}\\right)$"
      ],
      "text/plain": [
       "-1.0*I*(-g*Derivative(f(t), t)/(2*(-w_1 + w_2 - w_d + k(t))) + g*f(t)*Derivative(k(t), t)/(2*(-w_1 + w_2 - w_d + k(t))**2))"
      ]
     },
     "execution_count": 16,
     "metadata": {},
     "output_type": "execute_result"
    }
   ],
   "source": [
    "res_rScut1[2,1]"
   ]
  },
  {
   "cell_type": "markdown",
   "metadata": {},
   "source": []
  },
  {
   "cell_type": "code",
   "execution_count": 17,
   "metadata": {},
   "outputs": [
    {
     "data": {
      "text/latex": [
       "$\\displaystyle \\frac{g^{2} f^{2}{\\left(t \\right)}}{8 \\left(w_{1} - w_{2} + w_{d} - k{\\left(t \\right)}\\right)} - \\frac{g^{2} f^{2}{\\left(t \\right)}}{8 \\left(- w_{1} + w_{2} - w_{d} + k{\\left(t \\right)}\\right)} - w_{0} + w_{1} - w_{d} + k{\\left(t \\right)} - \\frac{f^{2}{\\left(t \\right)}}{4 \\left(w_{0} - w_{1} + w_{d} - k{\\left(t \\right)}\\right)} + \\frac{f^{2}{\\left(t \\right)}}{4 \\left(- w_{0} + w_{1} - w_{d} + k{\\left(t \\right)}\\right)}$"
      ],
      "text/plain": [
       "g**2*f(t)**2/(8*(w_1 - w_2 + w_d - k(t))) - g**2*f(t)**2/(8*(-w_1 + w_2 - w_d + k(t))) - w_0 + w_1 - w_d + k(t) - f(t)**2/(4*(w_0 - w_1 + w_d - k(t))) + f(t)**2/(4*(-w_0 + w_1 - w_d + k(t)))"
      ]
     },
     "execution_count": 17,
     "metadata": {},
     "output_type": "execute_result"
    }
   ],
   "source": [
    "res_rScut1[1,1]-res_rScut1[0,0]"
   ]
  },
  {
   "cell_type": "code",
   "execution_count": 18,
   "metadata": {},
   "outputs": [
    {
     "data": {
      "text/latex": [
       "$\\displaystyle - \\frac{g^{2} f^{2}{\\left(t \\right)}}{4 \\left(w_{1} - w_{2} + w_{d} - k{\\left(t \\right)}\\right)} + \\frac{g^{2} f^{2}{\\left(t \\right)}}{4 \\left(- w_{1} + w_{2} - w_{d} + k{\\left(t \\right)}\\right)} - w_{1} + w_{2} - w_{d} + k{\\left(t \\right)} + \\frac{f^{2}{\\left(t \\right)}}{8 \\left(w_{0} - w_{1} + w_{d} - k{\\left(t \\right)}\\right)} - \\frac{f^{2}{\\left(t \\right)}}{8 \\left(- w_{0} + w_{1} - w_{d} + k{\\left(t \\right)}\\right)}$"
      ],
      "text/plain": [
       "-g**2*f(t)**2/(4*(w_1 - w_2 + w_d - k(t))) + g**2*f(t)**2/(4*(-w_1 + w_2 - w_d + k(t))) - w_1 + w_2 - w_d + k(t) + f(t)**2/(8*(w_0 - w_1 + w_d - k(t))) - f(t)**2/(8*(-w_0 + w_1 - w_d + k(t)))"
      ]
     },
     "execution_count": 18,
     "metadata": {},
     "output_type": "execute_result"
    }
   ],
   "source": [
    "res_rScut1[2,2]-res_rScut1[1,1]\n"
   ]
  },
  {
   "cell_type": "code",
   "execution_count": null,
   "metadata": {},
   "outputs": [],
   "source": []
  }
 ],
 "metadata": {
  "kernelspec": {
   "display_name": "base",
   "language": "python",
   "name": "python3"
  },
  "language_info": {
   "codemirror_mode": {
    "name": "ipython",
    "version": 3
   },
   "file_extension": ".py",
   "mimetype": "text/x-python",
   "name": "python",
   "nbconvert_exporter": "python",
   "pygments_lexer": "ipython3",
   "version": "3.9.12"
  }
 },
 "nbformat": 4,
 "nbformat_minor": 2
}
