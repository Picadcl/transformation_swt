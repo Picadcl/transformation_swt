{
 "cells": [
  {
   "cell_type": "markdown",
   "metadata": {},
   "source": [
    "### Intro\n",
    "\n",
    "我们使用Schrieffer–Wolff Transformation(SWT)来对角化哈密顿量，其物理上的应用是将待研究的子空间与剩余维度解耦。\n",
    "\n",
    "$$\n",
    "H_{raw} \\rightarrow H_{eff} \n",
    "$$\n",
    "\n",
    "注意上式中的$H_{eff}$应与原先哈密顿量$H_{raw}$享有相同的本征值，\n",
    "在超导量子的哈密顿量体系下,我们处于大失谐条件下，$H_0+H_I$的本征向量可以近似看成$H_0$的，\n",
    "这也是我们能够在大失谐条件下大量应用SWT方法的前提。\n",
    "\n",
    "等效哈密顿量$H_{eff}$可以写成如下的直和形式：\n",
    "\n",
    "$$\n",
    "H_{eff} = H_1 \\oplus H_2 \\oplus H_3 \\oplus \\cdots \n",
    "$$\n",
    "\n",
    "引入投影算符$P_\\alpha$:\n",
    "\n",
    "$$\n",
    "P_\\alpha = \\sum_j |\\alpha,j\\rangle \\langle \\alpha,j |, \\sum_\\alpha P_\\alpha = \\mathcal{I}\n",
    "$$\n",
    "\n",
    "我们最后的等效哈密顿量的所有元素都只会在这些投影算符张成的子空间内，用公式表示成：\n",
    "\n",
    "$$\n",
    "P_\\alpha H_{eff} P_\\beta = 0 (\\alpha \\neq \\beta )\n",
    "$$\n",
    "\n",
    "而我们引入的变换为：\n",
    "\n",
    "$$\n",
    "H_{eff} = e^{-S}H_{raw}e^{S} \n",
    "$$\n",
    "\n",
    "我们规定了变换算符S在投影空间的对角项为0，即：\n",
    "\n",
    "$$\n",
    "P_\\alpha S  P_\\alpha = 0\n",
    "$$\n",
    "\n",
    "不失一般性地，当我们确定我们要等效的子空间形式后，我们对一个哈密顿量$H_{raw}$重写为三部分，$H_{raw}=H_{0}+H_{1}+H_{2}$,\n",
    "我们做声明称：$H_0$的本征向量构成了空间的基，$H_1$是子空间下的对角元素，$H_2$是子空间下的非对角元素。数学形式上写成：\n",
    "\n",
    "$$\n",
    "\\begin{aligned}\n",
    "P_\\alpha H_1 P_\\beta &= 0 (\\alpha \\neq \\beta ),\\quad & P_\\alpha H_2 P_\\beta \\neq 0 (\\alpha \\neq \\beta ) \\\\\n",
    "P_\\alpha H_1 P_\\alpha &\\neq 0 ,\\quad &P_\\alpha H_2 P_\\alpha = 0\n",
    "\\end{aligned}\n",
    "$$\n",
    "\n",
    "之所以要分成三个部分，是因为我们只对子空间外的耦合项做对角化，在子空间内的元素需要独立的摘取出来，他们在变换中有不同于子空间外的计算形式。\n",
    "\n",
    "在复杂的展开$H_{eff} = e^{-S}H_{raw}e^{S} $式子后，我们根据展开变换算符$S$的阶数来写出$H_{eff}$的形式：\n",
    "\n",
    "$$\n",
    "\\begin{equation}\n",
    "\\begin{aligned}\n",
    "H_{raw} &= H_0 + H_1 + H_2 \\\\\n",
    "H_{eff}^{cut0} &= H_0 \\\\\n",
    "H_{eff}^{cut1} &= H_0 + H_1 +H_2 + [H_0,S_1] \\\\\n",
    "H_{eff}^{cut2} &= H_0 + H_1 +H_2 + [H_0,S_1] + [H_0,S_2] +[H_1+H_2,S_1]+\\frac{1}{2!}[[H_0,S_1],S_1]\\\\\n",
    "H_{eff}^{cut3} &= H_0 + H_1 +H_2 + [H_0,S_1] + [H_0,S_2] +[H_1+H_2,S_1]+\\frac{1}{2!}[[H_0,S_1],S_1] \\\\\n",
    "               &+ [H_0,S_3] +[H_1+H_2,S_2]+\\frac{1}{2!}[[H_0,S_1],S_2]+\\frac{1}{2!}[[H_0,S_2],S_1]+\\frac{1}{2!}[[H_1+H_2,S_1],S_1]+\\frac{1}{3!}[[[H_0,S_1],S_1],S_1] \\\\\n",
    "\\end{aligned}\n",
    "\\end{equation}\n",
    "$$\n",
    "\n"
   ]
  },
  {
   "cell_type": "markdown",
   "metadata": {},
   "source": [
    "对$H_{eff}^{cut1}$的处理：\n",
    "\n",
    "$$\n",
    "\\begin{aligned}\n",
    "P_\\alpha H_{eff} P_\\beta &= 0 \\rightarrow P_\\alpha (H_0+H_1+H_2+[H_0,S_1]) P_\\beta = P_\\alpha (H_2+[H_0,S_1]) P_\\beta = 0 \\\\\n",
    "&\\rightarrow P_\\alpha [H_0,S_1] P_\\beta = -P_\\alpha H_2 P_\\beta \\\\ \n",
    "&\\rightarrow \\sum_j|\\alpha,j\\rangle\\langle\\alpha,j|H_0 S_1 P_\\beta - \\sum_j P_\\alpha S_1 H_0|\\beta,j\\rangle\\langle\\beta,j| \\\\\n",
    "& = \\sum_{j,k} E_j^\\alpha |\\alpha,j\\rangle\\langle\\alpha,j| S_1 |\\beta,k\\rangle\\langle\\beta,k| - \\sum_{j,k} E_k^\\beta |\\alpha,j\\rangle\\langle\\alpha,j| S_1|\\beta,k\\rangle\\langle\\beta,k|\\\\\n",
    "& = \\sum_{j,k}(E_j^\\alpha-E_k^\\beta)\\langle\\alpha,j|S_1|\\beta,k\\rangle |\\alpha,j\\rangle\\langle\\beta,k| = -\\sum_{j,k}\\langle\\alpha,j|H_2|\\beta,k\\rangle |\\alpha,j\\rangle\\langle\\beta,k| \\\\ \n",
    "&\\rightarrow \\langle\\alpha,j|S_1|\\beta,k\\rangle = -\\frac{\\langle\\alpha,j|H_2|\\beta,k\\rangle}{E_j^\\alpha-E_k^\\beta}\n",
    "\\end{aligned}\n",
    "$$\n",
    "\n",
    "一阶变换后的等效哈密顿量，使得\n",
    "\n",
    "$$\n",
    "H_{eff}^{cut1} = H_0+H_1\n",
    "$$"
   ]
  },
  {
   "cell_type": "markdown",
   "metadata": {},
   "source": [
    "对$H_{eff}^{cut2}$的处理：\n",
    "\n",
    "$$\n",
    "\\begin{aligned}\n",
    "P_\\alpha H_{eff} P_\\beta &= 0 \\rightarrow P_\\alpha (H_{eff}^{cut1}+ [H_0,S_2] +[H_1+H_2,S_1]+\\frac{1}{2!}[[H_0,S_1],S_1]) P_\\beta = P_\\alpha ([H_0,S_2] +[H_1+H_2,S_1]+\\frac{1}{2!}[[H_0,S_1],S_1]) P_\\beta = 0 \\\\\n",
    "&\\rightarrow P_\\alpha [H_0,S_2]P_\\beta + P_\\alpha ([H_1+H_2,S_1]+\\frac{1}{2!}[-H_2,S_1])P_\\beta =P_\\alpha ([H_0,S_2]+[H_1,S_1]+\\frac{1}{2}[H_2,S_1])P_\\beta \\\\ \n",
    "&\\rightarrow P_\\alpha [H_0,S_2]P_\\beta = -P_\\alpha ([H_1,S_1]+\\frac{1}{2}[H_2,S_1])P_\\beta \\\\ \n",
    "&\\rightarrow \\langle\\alpha,j|S_2|\\beta,k\\rangle = -\\frac{1}{E_j^\\alpha-E_k^\\beta} \\langle\\alpha,j|([H_1,S_1]+\\frac{1}{2}[H_2,S_1])|\\beta,k\\rangle\n",
    "\\end{aligned}\n",
    "$$\n",
    "\n",
    "二阶变换后的等效哈密顿量，使得\n",
    "\n",
    "$$\n",
    "H_{eff}^{cut2} = H_0+H_1+[H_0,S_2]+[H_1,S_1]+\\frac{1}{2}[H_2,S_1]\n",
    "$$\n",
    "\n"
   ]
  },
  {
   "cell_type": "markdown",
   "metadata": {},
   "source": [
    "$$\n",
    "\\begin{aligned}\n",
    "P_\\alpha H_{eff} P_\\beta &= 0 \\rightarrow P_\\alpha (H_{eff}^{cut2}+ [H_0,S_3] +[H_1+H_2,S_2]+\\frac{1}{2!}[[H_0,S_1],S_2]+\\frac{1}{2!}[[H_0,S_2],S_1]+\\frac{1}{2!}[[H_1+H_2,S_1],S_1]+\\frac{1}{3!}[[[H_0,S_1],S_1],S_1])P_\\beta \\\\\n",
    "&= P_\\alpha ([H_0,S_3] +[H_1+H_2,S_2]+\\frac{1}{2!}[[H_0,S_1],S_2]+\\frac{1}{2!}[[H_0,S_2],S_1]+\\frac{1}{2!}[[H_1+H_2,S_1],S_1]+\\frac{1}{3!}[[[H_0,S_1],S_1],S_1]) P_\\beta = 0 \\\\\n",
    "&\\rightarrow P_\\alpha [H_0,S_3]P_\\beta + P_\\alpha ([H_1,S_2]+\\frac{1}{2!}[H_2,S_2])P_\\beta \n",
    "+P_\\alpha (\\frac{1}{2}[[H_0,S_2]+[H_1,S_1]+\\frac{1}{2}[H_2,S_1],S_1]+\\frac{1}{12}[[H_2,S_1],S_1] ) P_\\beta \\\\\n",
    "&\\rightarrow \\langle\\alpha,j|S_3|\\beta,k\\rangle = -\\frac{1}{E_j^\\alpha-E_k^\\beta} \\langle\\alpha,j|([H_1,S_2]+\\frac{1}{2}[H_2,S_2])|\\beta,k\\rangle\n",
    "\\end{aligned}\n",
    "$$"
   ]
  },
  {
   "cell_type": "markdown",
   "metadata": {},
   "source": [
    "对$H_{eff}^{cut3}$的处理：\n",
    "\n",
    "$$\n",
    "\\begin{aligned}\n",
    "P_\\alpha H_{eff} P_\\beta &= 0 \\rightarrow P_\\alpha (H_{eff}^{cut2}+ [H_0,S_3] +[H_1+H_2,S_2]+\\frac{1}{2!}[[H_0,S_1],S_2]+\\frac{1}{2!}[[H_0,S_2],S_1]+\\frac{1}{2!}[[H_1+H_2,S_1],S_1]+\\frac{1}{3!}[[[H_0,S_1],S_1],S_1])P_\\beta \\\\\n",
    "&= P_\\alpha ([H_0,S_3] +[H_1+H_2,S_2]+\\frac{1}{2!}[[H_0,S_1],S_2]+\\frac{1}{2!}[[H_0,S_2],S_1]+\\frac{1}{2!}[[H_1+H_2,S_1],S_1]+\\frac{1}{3!}[[[H_0,S_1],S_1],S_1]) P_\\beta = 0 \\\\\n",
    "&\\rightarrow P_\\alpha [H_0,S_3]P_\\beta + P_\\alpha ([H_1,S_2]+\\frac{1}{2!}[H_2,S_2])P_\\beta \n",
    "+P_\\alpha (\\frac{1}{2}[[H_0,S_2]+[H_1,S_1]+\\frac{1}{2}[H_2,S_1],S_1]+\\frac{1}{12}[[H_2,S_1],S_1] ) P_\\beta \\\\\n",
    "&\\rightarrow \\langle\\alpha,j|S_3|\\beta,k\\rangle = -\\frac{1}{E_j^\\alpha-E_k^\\beta} \\langle\\alpha,j|([H_1,S_2]+\\frac{1}{2}[H_2,S_2]+\\frac{1}{12}[[H_2,S_1],S_1] \n",
    "+\\frac{1}{2}[([H_0,S_2]+[H_1,S_1]+\\frac{1}{2}[H_2,S_1]),S_1])|\\beta,k\\rangle\n",
    "\\end{aligned}\n",
    "$$\n",
    "\n",
    "二阶变换后的等效哈密顿量，使得\n",
    "\n",
    "$$\n",
    "H_{eff}^{cut3} = H_0+H_1+[H_0,S_2]+[H_1,S_1]+\\frac{1}{2}[H_2,S_1]+[H_0,S_3] +[H_1,S_2]+\\frac{1}{2}[H_2,S_2]+\\frac{1}{12}[[H_2,S_1],S_1]+[\\frac{1}{2}([H_0,S_2]+[H_1,S_1]+\\frac{1}{2}[H_2,S_1]),S_1]\n",
    "$$"
   ]
  },
  {
   "cell_type": "code",
   "execution_count": 1,
   "metadata": {},
   "outputs": [],
   "source": [
    "from sympy import *\n",
    "from sympy.physics.quantum import TensorProduct\n",
    "from sympy.physics.quantum import Commutator\n",
    "from sympy.physics.quantum import Operator\n",
    "from itertools import permutations\n",
    "from itertools import combinations"
   ]
  },
  {
   "cell_type": "markdown",
   "metadata": {},
   "source": [
    "### 未完待续\n",
    "\n",
    "俺觉得后续可以建一个类或者方法，check 是否diagonal，明确等效哈密顿量的贡献项\n",
    "步骤是先建立子空间，然后一步一步确认"
   ]
  },
  {
   "cell_type": "code",
   "execution_count": null,
   "metadata": {},
   "outputs": [],
   "source": []
  }
 ],
 "metadata": {
  "kernelspec": {
   "display_name": "base",
   "language": "python",
   "name": "python3"
  },
  "language_info": {
   "codemirror_mode": {
    "name": "ipython",
    "version": 3
   },
   "file_extension": ".py",
   "mimetype": "text/x-python",
   "name": "python",
   "nbconvert_exporter": "python",
   "pygments_lexer": "ipython3",
   "version": "3.8.8"
  },
  "orig_nbformat": 4,
  "vscode": {
   "interpreter": {
    "hash": "ff8545c4118f3e886a3cd33ae3489921731f19b3ed91e2e6a8cc8ccd4dfb45ff"
   }
  }
 },
 "nbformat": 4,
 "nbformat_minor": 2
}
